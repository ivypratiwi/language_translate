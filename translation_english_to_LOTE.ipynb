{
 "cells": [
  {
   "cell_type": "markdown",
   "id": "0ecd48b6",
   "metadata": {},
   "source": [
    "# Translating from English to LOTE (Language Other Than English)"
   ]
  },
  {
   "cell_type": "markdown",
   "id": "c494883a",
   "metadata": {},
   "source": [
    "The purpose of this notebook is to do translation from English to some other languages.\n",
    "\n",
    "I need to do a translation exam, but there is not much material available for the Indonesian language translation exam on the internet. I received a list of vocabulary (~1.5k words) from a friend who is doing it in English to the Tamil language. I need to translate these languages to the Indonesian language, however here are my problems:\n",
    "- File consists of the text in both English and Tamil languages, I only need to take the English words.\n",
    "- Copy pasting these words to Google translate only have a maximum of ~150 lines (150 words).\n",
    "- Copying the translation result of the above 150 words back to excel returns all in one cell.\n",
    "- If I copy the translation result, it will only give me Indonesian words. I need it to be `English word - Indonesian word` for each English word, in one row.\n",
    "\n",
    "The above actions create too much trouble, especially with the manual work of cleaning up the excel workbook around 10 times. So, I did a bit of programming to do the translation. \n",
    "\n",
    "I also convert the translation results to audio, so that I can listen to the words from my phone anywhere, anytime, whether I do some chores or just resting. I use the `deep_translator` library for the translation service and the `gtts` library for the text-to-audio conversion.\n",
    "\n",
    "This code has been used to help some of my friends who are required to get the translation to Russian and Hindi languages. So I hope this can be useful for other people who are looking for translation services in python. \n",
    "\n",
    "I am using `sample_tamil_vocab.txt` which only consists of 20 words for this demonstration."
   ]
  },
  {
   "cell_type": "code",
   "execution_count": 1,
   "id": "29d3d27d",
   "metadata": {},
   "outputs": [],
   "source": [
    "#Importing libraries\n",
    "\n",
    "import pandas as pd\n",
    "import re\n",
    "import os\n",
    "from tqdm import tqdm\n",
    "from gtts import gTTS\n",
    "from deep_translator import GoogleTranslator"
   ]
  },
  {
   "cell_type": "code",
   "execution_count": 2,
   "id": "d8258805",
   "metadata": {},
   "outputs": [
    {
     "name": "stdout",
     "output_type": "stream",
     "text": [
      "Selected language: indonesian with language code of id\n"
     ]
    }
   ],
   "source": [
    "#### SETTING LANGUAGE ####\n",
    "\n",
    "LANGUAGE = 'indonesian'\n",
    "LANGUAGE_CODE = 'id'\n",
    "\n",
    "print (f'Selected language: {LANGUAGE} with language code of {LANGUAGE_CODE}')"
   ]
  },
  {
   "cell_type": "code",
   "execution_count": 3,
   "id": "b2798ddd",
   "metadata": {},
   "outputs": [
    {
     "data": {
      "text/html": [
       "<div>\n",
       "<style scoped>\n",
       "    .dataframe tbody tr th:only-of-type {\n",
       "        vertical-align: middle;\n",
       "    }\n",
       "\n",
       "    .dataframe tbody tr th {\n",
       "        vertical-align: top;\n",
       "    }\n",
       "\n",
       "    .dataframe thead th {\n",
       "        text-align: right;\n",
       "    }\n",
       "</style>\n",
       "<table border=\"1\" class=\"dataframe\">\n",
       "  <thead>\n",
       "    <tr style=\"text-align: right;\">\n",
       "      <th></th>\n",
       "      <th>english</th>\n",
       "      <th>word</th>\n",
       "    </tr>\n",
       "  </thead>\n",
       "  <tbody>\n",
       "    <tr>\n",
       "      <th>0</th>\n",
       "      <td>1. Magistrate - குற்றவியல் நடுவர்</td>\n",
       "      <td>magistrate</td>\n",
       "    </tr>\n",
       "    <tr>\n",
       "      <th>1</th>\n",
       "      <td>2. Office - அலுவலகம்</td>\n",
       "      <td>office</td>\n",
       "    </tr>\n",
       "    <tr>\n",
       "      <th>2</th>\n",
       "      <td>3. Lawyer - வழக்கறிஞர்</td>\n",
       "      <td>lawyer</td>\n",
       "    </tr>\n",
       "    <tr>\n",
       "      <th>3</th>\n",
       "      <td>4. Application - விண்ணப்பம்</td>\n",
       "      <td>application</td>\n",
       "    </tr>\n",
       "    <tr>\n",
       "      <th>4</th>\n",
       "      <td>5. Appointment - முன்னேற்பாடு / நியமேம் / உத்த...</td>\n",
       "      <td>appointment</td>\n",
       "    </tr>\n",
       "  </tbody>\n",
       "</table>\n",
       "</div>"
      ],
      "text/plain": [
       "                                             english         word\n",
       "0                  1. Magistrate - குற்றவியல் நடுவர்   magistrate\n",
       "1                               2. Office - அலுவலகம்       office\n",
       "2                             3. Lawyer - வழக்கறிஞர்       lawyer\n",
       "3                        4. Application - விண்ணப்பம்  application\n",
       "4  5. Appointment - முன்னேற்பாடு / நியமேம் / உத்த...  appointment"
      ]
     },
     "execution_count": 3,
     "metadata": {},
     "output_type": "execute_result"
    }
   ],
   "source": [
    "#Read the file and take English words with regex\n",
    "\n",
    "df = pd.read_csv('./input_file/sample_tamil_vocab.txt', on_bad_lines='skip')\n",
    "\n",
    "df['word'] = df['english'].str.extract(r'((?<=\\d\\.).*?(?=-|–|=))')\n",
    "\n",
    "df['word'] = df['word'].str.lower().str.strip()\n",
    "\n",
    "df.loc[df['word']=='x', ['word']] = 'x-ray'\n",
    "\n",
    "df.head()"
   ]
  },
  {
   "cell_type": "code",
   "execution_count": 4,
   "id": "71138221",
   "metadata": {},
   "outputs": [
    {
     "data": {
      "text/plain": [
       "['magistrate', 'office', 'lawyer', 'application', 'appointment']"
      ]
     },
     "execution_count": 4,
     "metadata": {},
     "output_type": "execute_result"
    }
   ],
   "source": [
    "#Make list updated with str lower and remove spacing\n",
    "word_list = list(df['word'].unique())\n",
    "word_list[:5]"
   ]
  },
  {
   "cell_type": "code",
   "execution_count": 5,
   "id": "afc22f5a",
   "metadata": {},
   "outputs": [
    {
     "data": {
      "text/plain": [
       "'tetap semangat, kalian luar biasa'"
      ]
     },
     "execution_count": 5,
     "metadata": {},
     "output_type": "execute_result"
    }
   ],
   "source": [
    "#Sample of Google Translator\n",
    "translated = GoogleTranslator(source='auto', target=LANGUAGE_CODE).translate(\"keep it up, you are awesome\")\n",
    "\n",
    "translated"
   ]
  },
  {
   "cell_type": "code",
   "execution_count": 6,
   "id": "19706e5d",
   "metadata": {
    "scrolled": true
   },
   "outputs": [
    {
     "name": "stderr",
     "output_type": "stream",
     "text": [
      "100%|██████████████████████████████████████████████████████████████████████████████████| 20/20 [00:08<00:00,  2.34it/s]\n"
     ]
    }
   ],
   "source": [
    "#Loop each word and translate\n",
    "word_dictionary = {}\n",
    "\n",
    "for word in tqdm(word_list):\n",
    "    try:\n",
    "        translation = GoogleTranslator(source='en', target=LANGUAGE_CODE).translate(word)\n",
    "        word_dictionary[word] = translation\n",
    "    except Exception as e:\n",
    "        word_dictionary[word] = 'UNKNOWN'"
   ]
  },
  {
   "cell_type": "code",
   "execution_count": 7,
   "id": "247d67f0",
   "metadata": {},
   "outputs": [],
   "source": [
    "#Save it to a dataframe\n",
    "word_df = pd.DataFrame()\n",
    "word_df['english'] = word_dictionary.keys()\n",
    "word_df['translated'] = word_dictionary.values()"
   ]
  },
  {
   "cell_type": "code",
   "execution_count": 8,
   "id": "77e639e6",
   "metadata": {},
   "outputs": [
    {
     "name": "stdout",
     "output_type": "stream",
     "text": [
      "<class 'pandas.core.frame.DataFrame'>\n",
      "RangeIndex: 20 entries, 0 to 19\n",
      "Data columns (total 2 columns):\n",
      " #   Column      Non-Null Count  Dtype \n",
      "---  ------      --------------  ----- \n",
      " 0   english     20 non-null     object\n",
      " 1   translated  20 non-null     object\n",
      "dtypes: object(2)\n",
      "memory usage: 448.0+ bytes\n"
     ]
    }
   ],
   "source": [
    "word_df.info()"
   ]
  },
  {
   "cell_type": "code",
   "execution_count": 9,
   "id": "a548bd97",
   "metadata": {},
   "outputs": [],
   "source": [
    "#Saving to csv file\n",
    "word_df.to_csv(f'./output_file/{LANGUAGE}_word_translation.txt', index=False)\n",
    "word_df.to_csv(f'./output_file/{LANGUAGE}_word_translation.csv', index=False)"
   ]
  },
  {
   "cell_type": "markdown",
   "id": "99ada9a8",
   "metadata": {},
   "source": [
    "# Converting to Audio\n",
    "\n",
    "\n",
    "I can convert to audio in the previous loop, however, the idea of converting to audio came up after I finished translating the words. So, I create a separate section to convert the audio.\n",
    "\n",
    "The `gtts` library has a limit of 1,000 words daily."
   ]
  },
  {
   "cell_type": "code",
   "execution_count": 10,
   "id": "07e77a6d",
   "metadata": {},
   "outputs": [
    {
     "data": {
      "text/html": [
       "<div>\n",
       "<style scoped>\n",
       "    .dataframe tbody tr th:only-of-type {\n",
       "        vertical-align: middle;\n",
       "    }\n",
       "\n",
       "    .dataframe tbody tr th {\n",
       "        vertical-align: top;\n",
       "    }\n",
       "\n",
       "    .dataframe thead th {\n",
       "        text-align: right;\n",
       "    }\n",
       "</style>\n",
       "<table border=\"1\" class=\"dataframe\">\n",
       "  <thead>\n",
       "    <tr style=\"text-align: right;\">\n",
       "      <th></th>\n",
       "      <th>english</th>\n",
       "      <th>translated</th>\n",
       "    </tr>\n",
       "  </thead>\n",
       "  <tbody>\n",
       "    <tr>\n",
       "      <th>0</th>\n",
       "      <td>magistrate</td>\n",
       "      <td>hakim</td>\n",
       "    </tr>\n",
       "    <tr>\n",
       "      <th>1</th>\n",
       "      <td>office</td>\n",
       "      <td>kantor</td>\n",
       "    </tr>\n",
       "    <tr>\n",
       "      <th>2</th>\n",
       "      <td>lawyer</td>\n",
       "      <td>pengacara</td>\n",
       "    </tr>\n",
       "    <tr>\n",
       "      <th>3</th>\n",
       "      <td>application</td>\n",
       "      <td>aplikasi</td>\n",
       "    </tr>\n",
       "    <tr>\n",
       "      <th>4</th>\n",
       "      <td>appointment</td>\n",
       "      <td>janji temu</td>\n",
       "    </tr>\n",
       "  </tbody>\n",
       "</table>\n",
       "</div>"
      ],
      "text/plain": [
       "       english  translated\n",
       "0   magistrate       hakim\n",
       "1       office      kantor\n",
       "2       lawyer   pengacara\n",
       "3  application    aplikasi\n",
       "4  appointment  janji temu"
      ]
     },
     "execution_count": 10,
     "metadata": {},
     "output_type": "execute_result"
    }
   ],
   "source": [
    "#Setting up the variables again\n",
    "LANGUAGE = 'indonesian'\n",
    "LANGUAGE_CODE = 'id'\n",
    "\n",
    "\n",
    "word_df = pd.read_csv(f'./output_file/{LANGUAGE}_word_translation.txt')\n",
    "word_df.head()"
   ]
  },
  {
   "cell_type": "code",
   "execution_count": 11,
   "id": "95b8ab27",
   "metadata": {},
   "outputs": [
    {
     "name": "stderr",
     "output_type": "stream",
     "text": [
      "100%|██████████████████████████████████████████████████████████████████████████████████| 20/20 [00:25<00:00,  1.29s/it]\n"
     ]
    },
    {
     "data": {
      "text/plain": [
       "0"
      ]
     },
     "execution_count": 11,
     "metadata": {},
     "output_type": "execute_result"
    }
   ],
   "source": [
    "#Set a file name and the audio number\n",
    "file_name = f'sample_{LANGUAGE}_translation'\n",
    "audio_number = str(1)\n",
    "\n",
    "frame = word_df.copy()\n",
    "frame = frame.dropna()\n",
    "\n",
    "word_dict = frame.set_index('english').to_dict()['translated']\n",
    "\n",
    "with open(f'{file_name}_{audio_number}.mp3', 'wb') as ff:\n",
    "    for eng, lang in tqdm(word_dict.items()):\n",
    "        tts1 = gTTS(text=eng, lang='en', slow=True)\n",
    "        tts1.write_to_fp(ff)\n",
    "        tts_stop = gTTS(text=\"translation\", lang='en', slow=True)\n",
    "        tts_stop.write_to_fp(ff)\n",
    "        tts2 = gTTS(text=lang, lang=LANGUAGE_CODE, slow=True)\n",
    "        tts2.write_to_fp(ff)\n",
    "\n",
    "        \n",
    "#Play the music\n",
    "os.system(f'{file_name}_{audio_number}.mp3')"
   ]
  }
 ],
 "metadata": {
  "kernelspec": {
   "display_name": "Python 3 (ipykernel)",
   "language": "python",
   "name": "python3"
  },
  "language_info": {
   "codemirror_mode": {
    "name": "ipython",
    "version": 3
   },
   "file_extension": ".py",
   "mimetype": "text/x-python",
   "name": "python",
   "nbconvert_exporter": "python",
   "pygments_lexer": "ipython3",
   "version": "3.9.7"
  },
  "toc": {
   "base_numbering": 1,
   "nav_menu": {},
   "number_sections": false,
   "sideBar": true,
   "skip_h1_title": false,
   "title_cell": "Table of Contents",
   "title_sidebar": "Contents",
   "toc_cell": false,
   "toc_position": {},
   "toc_section_display": true,
   "toc_window_display": false
  }
 },
 "nbformat": 4,
 "nbformat_minor": 5
}
